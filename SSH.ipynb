{
  "nbformat": 4,
  "nbformat_minor": 0,
  "metadata": {
    "colab": {
      "name": "SSH.ipynb",
      "provenance": [],
      "collapsed_sections": [],
      "mount_file_id": "1awIW-jih1A71hraZbwmWTZZnHg_3pJwo",
      "authorship_tag": "ABX9TyNLAAxYukxoMbxNa+b667Mq",
      "include_colab_link": true
    },
    "kernelspec": {
      "display_name": "Python 3",
      "name": "python3"
    },
    "language_info": {
      "name": "python"
    }
  },
  "cells": [
    {
      "cell_type": "markdown",
      "metadata": {
        "id": "view-in-github",
        "colab_type": "text"
      },
      "source": [
        "<a href=\"https://colab.research.google.com/github/madhavth/machine_learning/blob/main/SSH.ipynb\" target=\"_parent\"><img src=\"https://colab.research.google.com/assets/colab-badge.svg\" alt=\"Open In Colab\"/></a>"
      ]
    },
    {
      "cell_type": "code",
      "metadata": {
        "id": "PGdWYqc3Pnr1"
      },
      "source": [
        "public_key = 'ssh-rsa AAAAB3NzaC1yc2EAAAADAQABAAABgQCuxRZHLhO7a0mxBdRT5fu/FYrYCXPZUK9OjaVoAisN278HggXqsS4kygH36H0fCHQWwUWbH3aAfgSvEXAM05qYoXrMNblZY7b8wry1HP7Ekquox5oMyIQjtrorCEi/AWldtKxNuiFMc7aAyKTqvDdKa5bYwW2xkGnp9s339vFSE1ITxuaiXc+00nf3sXYhYt8VMFX8VSXzjzxEdfBkdjN07dbWBUnwH+YzMWUYFbhpqK5LH1LjTCAnnRK/WwwWAjF8z8PM/lqVMCNW8jc8EWQUnfH4zpSmbTnG3kcGzLgTAdnCNq7VoDcGe73IOeJDvRw1gpL33QpaJdBFhWClPh/TUxibn3W1f3/jbRbSnapbuvyY9poD0G1aUYPFI1xo6FFAfW38O0UQiKrUbg7eI+Gj0bNpnVJqXSEEyOBu6GQX/TNndpDlhL7Z8nFPH8S4FxbB2zFCDAA3+36re6TQngnZRKc4Ol/oxxceHhhOCWmaozABONckWU/qLHHeXaRQkCs= madhavth@madhavth'\n",
        "!mkdir -p ~/.ssh && touch ~/.ssh/authorized_keys\n",
        "!echo $public_key > ~/.ssh/authorized_keys"
      ],
      "execution_count": 1,
      "outputs": []
    },
    {
      "cell_type": "code",
      "metadata": {
        "colab": {
          "base_uri": "https://localhost:8080/"
        },
        "id": "dTMLqXXVCn_7",
        "outputId": "7a396fb8-3c38-4fdf-c0d9-397cf330ea06"
      },
      "source": [
        "#CODE\n",
        "\n",
        "#Generate root password\n",
        "import random, string\n",
        "import time\n",
        "password = 'powermt'\n",
        "\n",
        "#Download ngrok\n",
        "! wget -q -c -nc https://bin.equinox.io/c/4VmDzA7iaHb/ngrok-stable-linux-amd64.zip\n",
        "! unzip -qq -n ngrok-stable-linux-amd64.zip\n",
        "#Setup sshd\n",
        "! apt-get install -qq -o=Dpkg::Use-Pty=0 openssh-server pwgen > /dev/null\n",
        "!apt install -qq jq zsh nano\n",
        "\n",
        "#Set root password\n",
        "! echo root:$password | chpasswd\n",
        "! mkdir -p /var/run/sshd\n",
        "! echo \"PermitRootLogin yes\" >> /etc/ssh/sshd_config\n",
        "! echo \"PasswordAuthentication yes\" >> /etc/ssh/sshd_config\n",
        "! echo \"LD_LIBRARY_PATH=/usr/lib64-nvidia\" >> /root/.bashrc\n",
        "! echo \"export LD_LIBRARY_PATH\" >> /root/.bashrc\n",
        "\n",
        "#Run sshd\n",
        "get_ipython().system_raw('/usr/sbin/sshd -D &')\n",
        "\n",
        "#Ask token\n",
        "print(\"Copy authtoken from https://dashboard.ngrok.com/auth\")\n",
        "import getpass\n",
        "authtoken = \"2CAzHxuDB3e9q5UBiA2MA_6TG3rRv1kvwJ2vk7KA2R8\"\n",
        "\n",
        "#Create tunnel\n",
        "get_ipython().system_raw('./ngrok authtoken $authtoken && ./ngrok tcp 22 &')\n",
        "#Print root password\n",
        "print(\"Root password: {}\".format(password))\n",
        "time.sleep(3)\n",
        "#Get public address\n",
        "address = !address=$(curl -s http://localhost:4040/api/tunnels | jq '.tunnels[].public_url'); refined=${address/\"tcp://\"/}; echo $refined\n",
        "nginfo = address[0].split(\":\")\n",
        "ip = nginfo[0].replace('\"','')\n",
        "port = nginfo[1].replace('\"','')\n",
        "print(f\"ssh root@{ip} -p {port}\")    \n",
        "    \n",
        "    \n",
        "#Copy authentication token after authenticating your ID using google or github and \n",
        "###./ngrok authtoken 616pgtVvEMKxN6C********************************************"
      ],
      "execution_count": 2,
      "outputs": [
        {
          "output_type": "stream",
          "text": [
            "\n",
            "Creating config file /etc/ssh/sshd_config with new version\n",
            "Creating SSH2 RSA key; this may take some time ...\n",
            "2048 SHA256:oNMi7fHUxLDmjjPYbBLI+kFwsy4fi1lnrOp5mLdgJLk root@6e67ecac43f5 (RSA)\n",
            "Creating SSH2 ECDSA key; this may take some time ...\n",
            "256 SHA256:WqcR2y+XaNINazFoeDI3WBebxz/Ra5OKw5ZpfxJykWs root@6e67ecac43f5 (ECDSA)\n",
            "Creating SSH2 ED25519 key; this may take some time ...\n",
            "256 SHA256:aSa72kiY3JykG3Vo4nW5Mv/yNUAqVKY0L/Ngs282wX0 root@6e67ecac43f5 (ED25519)\n",
            "Created symlink /etc/systemd/system/sshd.service → /lib/systemd/system/ssh.service.\n",
            "Created symlink /etc/systemd/system/multi-user.target.wants/ssh.service → /lib/systemd/system/ssh.service.\n",
            "invoke-rc.d: could not determine current runlevel\n",
            "invoke-rc.d: policy-rc.d denied execution of start.\n",
            "The following additional packages will be installed:\n",
            "  libjq1 libonig4 zsh-common\n",
            "Suggested packages:\n",
            "  spell zsh-doc\n",
            "The following NEW packages will be installed:\n",
            "  jq libjq1 libonig4 nano zsh zsh-common\n",
            "0 upgraded, 6 newly installed, 0 to remove and 40 not upgraded.\n",
            "Need to get 4,573 kB of archives.\n",
            "After this operation, 16.9 MB of additional disk space will be used.\n",
            "Selecting previously unselected package nano.\n",
            "(Reading database ... 163854 files and directories currently installed.)\n",
            "Preparing to unpack .../0-nano_2.9.3-2_amd64.deb ...\n",
            "Unpacking nano (2.9.3-2) ...\n",
            "Selecting previously unselected package libonig4:amd64.\n",
            "Preparing to unpack .../1-libonig4_6.7.0-1_amd64.deb ...\n",
            "Unpacking libonig4:amd64 (6.7.0-1) ...\n",
            "Selecting previously unselected package libjq1:amd64.\n",
            "Preparing to unpack .../2-libjq1_1.5+dfsg-2_amd64.deb ...\n",
            "Unpacking libjq1:amd64 (1.5+dfsg-2) ...\n",
            "Selecting previously unselected package jq.\n",
            "Preparing to unpack .../3-jq_1.5+dfsg-2_amd64.deb ...\n",
            "Unpacking jq (1.5+dfsg-2) ...\n",
            "Selecting previously unselected package zsh-common.\n",
            "Preparing to unpack .../4-zsh-common_5.4.2-3ubuntu3.1_all.deb ...\n",
            "Unpacking zsh-common (5.4.2-3ubuntu3.1) ...\n",
            "Selecting previously unselected package zsh.\n",
            "Preparing to unpack .../5-zsh_5.4.2-3ubuntu3.1_amd64.deb ...\n",
            "Unpacking zsh (5.4.2-3ubuntu3.1) ...\n",
            "Setting up libonig4:amd64 (6.7.0-1) ...\n",
            "Setting up libjq1:amd64 (1.5+dfsg-2) ...\n",
            "Setting up nano (2.9.3-2) ...\n",
            "update-alternatives: using /bin/nano to provide /usr/bin/editor (editor) in auto mode\n",
            "update-alternatives: using /bin/nano to provide /usr/bin/pico (pico) in auto mode\n",
            "Setting up zsh-common (5.4.2-3ubuntu3.1) ...\n",
            "Setting up jq (1.5+dfsg-2) ...\n",
            "Setting up zsh (5.4.2-3ubuntu3.1) ...\n",
            "Processing triggers for man-db (2.8.3-2ubuntu0.1) ...\n",
            "Processing triggers for libc-bin (2.27-3ubuntu1.2) ...\n",
            "/sbin/ldconfig.real: /usr/local/lib/python3.7/dist-packages/ideep4py/lib/libmkldnn.so.0 is not a symbolic link\n",
            "\n",
            "Copy authtoken from https://dashboard.ngrok.com/auth\n",
            "Root password: powermt\n",
            "ssh root@6.tcp.ngrok.io -p 19264\n"
          ],
          "name": "stdout"
        }
      ]
    },
    {
      "cell_type": "code",
      "metadata": {
        "colab": {
          "base_uri": "https://localhost:8080/"
        },
        "id": "u1QhdHtNOs4h",
        "outputId": "802596a3-dfeb-4f9e-9833-be8cbe2034df"
      },
      "source": [
        "from google.colab import drive\n",
        "drive.mount('/content/drive')"
      ],
      "execution_count": 3,
      "outputs": [
        {
          "output_type": "stream",
          "text": [
            "Drive already mounted at /content/drive; to attempt to forcibly remount, call drive.mount(\"/content/drive\", force_remount=True).\n"
          ],
          "name": "stdout"
        }
      ]
    },
    {
      "cell_type": "code",
      "metadata": {
        "colab": {
          "base_uri": "https://localhost:8080/"
        },
        "id": "7E2c6caGNKGx",
        "outputId": "43954e63-0c2e-4ecf-f2fa-62f6de5f4cae"
      },
      "source": [
        "start_dir= \"/content/drive/Shareddrives/powermt/colab_home\"\n",
        "address = !address=$(curl -s http://localhost:4040/api/tunnels | jq '.tunnels[].public_url'); refined=${address/\"tcp://\"/}; echo $refined\n",
        "nginfo = address[0].split(\":\")\n",
        "ip = nginfo[0].replace('\"','')\n",
        "port = nginfo[1].replace('\"','')\n",
        "print(f\"ssh -t root@{ip} -p {port} 'cd {start_dir}; bash'\")   "
      ],
      "execution_count": 7,
      "outputs": [
        {
          "output_type": "stream",
          "text": [
            "ssh -t root@6.tcp.ngrok.io -p 19264 'cd /content/drive/Shareddrives/powermt/colab_home; bash'\n"
          ],
          "name": "stdout"
        }
      ]
    },
    {
      "cell_type": "code",
      "metadata": {
        "id": "kc0Kfsw_iSJY"
      },
      "source": [
        "!chmod +x /content/drive/Shareddrives/powermt/colab_home/omz.sh\n",
        "!cp /content/drive/Shareddrives/powermt/colab_home/omz.sh /usr/bin "
      ],
      "execution_count": 9,
      "outputs": []
    },
    {
      "cell_type": "code",
      "metadata": {
        "colab": {
          "base_uri": "https://localhost:8080/"
        },
        "id": "1c6bpIedDgM1",
        "outputId": "74da2853-cbe9-4f51-bad9-b7fad56220f9"
      },
      "source": [
        "!wget https://install.speedtest.net/app/cli/ookla-speedtest-1.0.0-x86_64-linux.tgz -O speedtest.tgz\n",
        "!tar -zxvf speedtest.tgz\n",
        "!mv speedtest /usr/bin\n",
        "#!./speedtest"
      ],
      "execution_count": 10,
      "outputs": [
        {
          "output_type": "stream",
          "text": [
            "--2021-07-24 13:01:22--  https://install.speedtest.net/app/cli/ookla-speedtest-1.0.0-x86_64-linux.tgz\n",
            "Resolving install.speedtest.net (install.speedtest.net)... 151.101.2.219, 151.101.66.219, 151.101.130.219, ...\n",
            "Connecting to install.speedtest.net (install.speedtest.net)|151.101.2.219|:443... connected.\n",
            "HTTP request sent, awaiting response... 200 OK\n",
            "Length: 930614 (909K) [application/gzip]\n",
            "Saving to: ‘speedtest.tgz’\n",
            "\n",
            "\rspeedtest.tgz         0%[                    ]       0  --.-KB/s               \rspeedtest.tgz       100%[===================>] 908.80K  --.-KB/s    in 0.05s   \n",
            "\n",
            "2021-07-24 13:01:22 (17.4 MB/s) - ‘speedtest.tgz’ saved [930614/930614]\n",
            "\n",
            "speedtest\n",
            "speedtest.md\n",
            "speedtest.5\n"
          ],
          "name": "stdout"
        }
      ]
    }
  ]
}