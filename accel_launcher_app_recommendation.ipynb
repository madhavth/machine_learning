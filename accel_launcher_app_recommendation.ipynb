{
  "nbformat": 4,
  "nbformat_minor": 0,
  "metadata": {
    "colab": {
      "name": "accel_launcher_app_recommendation.ipynb",
      "provenance": [],
      "collapsed_sections": [],
      "authorship_tag": "ABX9TyPx1lTzlQQPHEhk2cV4qEs+",
      "include_colab_link": true
    },
    "kernelspec": {
      "name": "python3",
      "display_name": "Python 3"
    },
    "language_info": {
      "name": "python"
    }
  },
  "cells": [
    {
      "cell_type": "markdown",
      "metadata": {
        "id": "view-in-github",
        "colab_type": "text"
      },
      "source": [
        "<a href=\"https://colab.research.google.com/github/madhavth/machine_learning/blob/main/accel_launcher_app_recommendation.ipynb\" target=\"_parent\"><img src=\"https://colab.research.google.com/assets/colab-badge.svg\" alt=\"Open In Colab\"/></a>"
      ]
    },
    {
      "cell_type": "code",
      "metadata": {
        "id": "-7Efp3zdxj37"
      },
      "source": [
        "import tensorflow as tf\n",
        "import pandas as pd\n",
        "import numpy as np\n",
        "from sklearn.preprocessing import LabelEncoder\n",
        "from tensorflow.keras.layers import Dense\n",
        "from tensorflow.keras.models import Sequential\n",
        "from tensorflow.keras.utils import to_categorical\n",
        "import random\n",
        "import math\n",
        "from sklearn.preprocessing import MinMaxScaler\n",
        "from tensorflow.keras.optimizers import Adam\n",
        "from tensorflow.keras.metrics import categorical_crossentropy\n",
        "from sklearn.utils import shuffle\n"
      ],
      "execution_count": null,
      "outputs": []
    },
    {
      "cell_type": "code",
      "metadata": {
        "id": "hitn8lHmFyMW"
      },
      "source": [
        "#generating random data for training, x == input, label_y is the expected output and used to train this model\n",
        "\n",
        "x = []\n",
        "label_y = []\n",
        "dc= 7\n",
        "\n",
        "for i in range(10000):\n",
        "  rand_time_used = 0.0\n",
        "  rand_days_used = random.randint(1,dc)\n",
        "\n",
        "  for j in range(rand_days_used):\n",
        "    daily_value = round(random.uniform(0.0, 60.00), 4)\n",
        "    rand_time_used += daily_value\n",
        "\n",
        "  # send average time used per day\n",
        "  x.append([rand_time_used, rand_days_used])\n",
        "  \n",
        "  prob_time = rand_time_used/(60.0* dc)\n",
        "  prob_days = rand_days_used/dc\n",
        "\n",
        "  prob_label_value = prob_time * prob_days\n",
        "  prob_label_value = prob_time + prob_days - prob_label_value\n",
        "  label_y.append(prob_label_value)\n",
        "\n",
        "x = np.array(x)\n",
        "label_y = np.array(label_y)\n",
        "\n",
        "x, label_y = shuffle(x,label_y)"
      ],
      "execution_count": null,
      "outputs": []
    },
    {
      "cell_type": "code",
      "metadata": {
        "colab": {
          "base_uri": "https://localhost:8080/"
        },
        "id": "qDIgeaCfHIg5",
        "outputId": "80327b65-90fd-4b26-b5bd-b21e5069a27c"
      },
      "source": [
        "for i in range(10):\n",
        "  print(f\"{x[i]} ===  {label_y[i]}\")"
      ],
      "execution_count": null,
      "outputs": [
        {
          "output_type": "stream",
          "text": [
            "[261.3165   7.    ] ===  1.0\n",
            "[107.4764   3.    ] ===  0.5747978231292518\n",
            "[36.4432  2.    ] ===  0.34769251700680276\n",
            "[72.126  2.   ] ===  0.4083775510204082\n",
            "[109.1833   3.    ] ===  0.5771201360544218\n",
            "[59.8946  1.    ] ===  0.26509102040816324\n",
            "[144.8147   5.    ] ===  0.8127991156462585\n",
            "[26.6266  1.    ] ===  0.19719714285714285\n",
            "[99.8061  3.    ] ===  0.5643620408163265\n",
            "[107.5325   3.    ] ===  0.5748741496598638\n"
          ],
          "name": "stdout"
        }
      ]
    },
    {
      "cell_type": "code",
      "metadata": {
        "id": "Cr4GBZGs2ow8"
      },
      "source": [
        "#create and defined the model\n",
        "model = Sequential()\n",
        "model.add(Dense(64, activation='relu', input_shape=[2]))\n",
        "model.add(Dense(64, activation='relu'))\n",
        "model.add(Dense(1))\n",
        "model.compile(optimizer=tf.keras.optimizers.RMSprop(0.0001), loss = 'mean_squared_error', metrics =['mean_absolute_error', 'mean_squared_error'])"
      ],
      "execution_count": null,
      "outputs": []
    },
    {
      "cell_type": "code",
      "metadata": {
        "colab": {
          "base_uri": "https://localhost:8080/"
        },
        "id": "IoAYYp4HcVAs",
        "outputId": "47c4fa6d-328a-4a89-9a4d-95273538a856"
      },
      "source": [
        "model.summary()"
      ],
      "execution_count": null,
      "outputs": [
        {
          "output_type": "stream",
          "text": [
            "Model: \"sequential_1\"\n",
            "_________________________________________________________________\n",
            "Layer (type)                 Output Shape              Param #   \n",
            "=================================================================\n",
            "dense_3 (Dense)              (None, 64)                192       \n",
            "_________________________________________________________________\n",
            "dense_4 (Dense)              (None, 64)                4160      \n",
            "_________________________________________________________________\n",
            "dense_5 (Dense)              (None, 1)                 65        \n",
            "=================================================================\n",
            "Total params: 4,417\n",
            "Trainable params: 4,417\n",
            "Non-trainable params: 0\n",
            "_________________________________________________________________\n"
          ],
          "name": "stdout"
        }
      ]
    },
    {
      "cell_type": "code",
      "metadata": {
        "id": "JxQLW9o129Mt"
      },
      "source": [
        " #training the model\n",
        " history = model.fit(x = x,y= label_y, epochs= 250, validation_split=0.1, batch_size= 10,verbose = 2)"
      ],
      "execution_count": null,
      "outputs": []
    },
    {
      "cell_type": "code",
      "metadata": {
        "id": "EeMbXUQrhlNj",
        "colab": {
          "base_uri": "https://localhost:8080/",
          "height": 279
        },
        "outputId": "82aca4ce-6c92-425b-bdab-2a63b5b1d0fe"
      },
      "source": [
        "#plotting helps visualize loss reductions as model is optimized\n",
        "\n",
        "import matplotlib.pyplot as plt\n",
        "def plot_something():\n",
        "  plt.xlabel('Epoch Number')\n",
        "  plt.ylabel('Loss Magnitude')\n",
        "  plt.plot(history.history['loss'])\n",
        "\n",
        "plot_something()"
      ],
      "execution_count": null,
      "outputs": [
        {
          "output_type": "display_data",
          "data": {
            "image/png": "[encoded data removed]",
            "text/plain": [
              "<Figure size 432x288 with 1 Axes>"
            ]
          },
          "metadata": {
            "tags": [],
            "needs_background": "light"
          }
        }
      ]
    },
    {
      "cell_type": "code",
      "metadata": {
        "id": "0kAoOpgT5KMD"
      },
      "source": [
        "#download file from colab\n",
        "from google.colab import files\n",
        "def download_files():\n",
        "  files.download('app_recommendation.tflite')"
      ],
      "execution_count": null,
      "outputs": []
    },
    {
      "cell_type": "code",
      "metadata": {
        "id": "Kt_2byZ93Dpu"
      },
      "source": [
        "#save the model from memory to file in colab\n",
        "model.save('app_recomm.h5', save_format='h5')"
      ],
      "execution_count": null,
      "outputs": []
    },
    {
      "cell_type": "code",
      "metadata": {
        "id": "OqW27b8L3KJo",
        "colab": {
          "base_uri": "https://localhost:8080/"
        },
        "outputId": "edc82253-e01a-4ae5-a423-6543904cc88c"
      },
      "source": [
        "# convert the model using tfliteconverter\n",
        "model = tf.keras.models.load_model('app_recomm.h5')\n",
        "converter = tf.lite.TFLiteConverter.from_keras_model(model)\n",
        "tflmodel = converter.convert()\n",
        "file = open( 'app_recommendation.tflite' , 'wb' ) \n",
        "file.write( tflmodel )"
      ],
      "execution_count": null,
      "outputs": [
        {
          "output_type": "stream",
          "text": [
            "INFO:tensorflow:Assets written to: /tmp/tmpbbc01zo6/assets\n"
          ],
          "name": "stdout"
        },
        {
          "output_type": "execute_result",
          "data": {
            "text/plain": [
              "19240"
            ]
          },
          "metadata": {
            "tags": []
          },
          "execution_count": 13
        }
      ]
    },
    {
      "cell_type": "code",
      "metadata": {
        "id": "yUPsXLqHbbsv",
        "colab": {
          "base_uri": "https://localhost:8080/",
          "height": 17
        },
        "outputId": "aca2e34f-b0b1-4d4d-86dc-b357cddbf2e8"
      },
      "source": [
        "#download the .tflite file\n",
        "download_files()"
      ],
      "execution_count": null,
      "outputs": [
        {
          "output_type": "display_data",
          "data": {
            "application/javascript": [
              "\n",
              "    async function download(id, filename, size) {\n",
              "      if (!google.colab.kernel.accessAllowed) {\n",
              "        return;\n",
              "      }\n",
              "      const div = document.createElement('div');\n",
              "      const label = document.createElement('label');\n",
              "      label.textContent = `Downloading \"${filename}\": `;\n",
              "      div.appendChild(label);\n",
              "      const progress = document.createElement('progress');\n",
              "      progress.max = size;\n",
              "      div.appendChild(progress);\n",
              "      document.body.appendChild(div);\n",
              "\n",
              "      const buffers = [];\n",
              "      let downloaded = 0;\n",
              "\n",
              "      const channel = await google.colab.kernel.comms.open(id);\n",
              "      // Send a message to notify the kernel that we're ready.\n",
              "      channel.send({})\n",
              "\n",
              "      for await (const message of channel.messages) {\n",
              "        // Send a message to notify the kernel that we're ready.\n",
              "        channel.send({})\n",
              "        if (message.buffers) {\n",
              "          for (const buffer of message.buffers) {\n",
              "            buffers.push(buffer);\n",
              "            downloaded += buffer.byteLength;\n",
              "            progress.value = downloaded;\n",
              "          }\n",
              "        }\n",
              "      }\n",
              "      const blob = new Blob(buffers, {type: 'application/binary'});\n",
              "      const a = document.createElement('a');\n",
              "      a.href = window.URL.createObjectURL(blob);\n",
              "      a.download = filename;\n",
              "      div.appendChild(a);\n",
              "      a.click();\n",
              "      div.remove();\n",
              "    }\n",
              "  "
            ],
            "text/plain": [
              "<IPython.core.display.Javascript object>"
            ]
          },
          "metadata": {
            "tags": []
          }
        },
        {
          "output_type": "display_data",
          "data": {
            "application/javascript": [
              "download(\"download_b9956262-6e60-4aa2-b1c9-fae49f22508c\", \"app_recommendation.tflite\", 19240)"
            ],
            "text/plain": [
              "<IPython.core.display.Javascript object>"
            ]
          },
          "metadata": {
            "tags": []
          }
        }
      ]
    },
    {
      "cell_type": "code",
      "metadata": {
        "id": "36nJvrWBiwij",
        "colab": {
          "base_uri": "https://localhost:8080/"
        },
        "outputId": "bac0740b-f037-4ce1-f9a3-1bfd99b522cc"
      },
      "source": [
        "#used to evaluate the model - \n",
        "#first value is the number of minutes the app has been used in this case . (0 - 420) suitable range\n",
        "#second parameter is the number of days app has been opened . (1-7) suitable range\n",
        "model.predict([[2, 5]])"
      ],
      "execution_count": null,
      "outputs": [
        {
          "output_type": "execute_result",
          "data": {
            "text/plain": [
              "array([[0.6004846]], dtype=float32)"
            ]
          },
          "metadata": {
            "tags": []
          },
          "execution_count": 43
        }
      ]
    },
    {
      "cell_type": "code",
      "metadata": {
        "id": "vOSEslK866DT",
        "colab": {
          "base_uri": "https://localhost:8080/"
        },
        "outputId": "1d0bff46-1653-48f4-99de-da5c9e3c93d0"
      },
      "source": [
        "!ls"
      ],
      "execution_count": null,
      "outputs": [
        {
          "output_type": "stream",
          "text": [
            "app_recommendation.tflite  app_recomm.h5  sample_data\n"
          ],
          "name": "stdout"
        }
      ]
    },
    {
      "cell_type": "code",
      "metadata": {
        "id": "gwaBw0rV3zBD"
      },
      "source": [
        "\n",
        "# Load TFLite model and allocate tensors.\n",
        "interpreter = tf.lite.Interpreter(model_path=\"app_recommendation.tflite\")\n",
        "interpreter.allocate_tensors()"
      ],
      "execution_count": null,
      "outputs": []
    },
    {
      "cell_type": "code",
      "metadata": {
        "id": "qxehydg67Izv"
      },
      "source": [
        "# Get input and output tensors.\n",
        "input_details = interpreter.get_input_details()\n",
        "output_details = interpreter.get_output_details()"
      ],
      "execution_count": null,
      "outputs": []
    },
    {
      "cell_type": "code",
      "metadata": {
        "id": "TZ19HSRw7KLV",
        "colab": {
          "base_uri": "https://localhost:8080/"
        },
        "outputId": "3bc0bc82-ed79-4201-9047-671db4c17538"
      },
      "source": [
        "# Test model on random input data.\n",
        "input_shape = input_details[0]['shape']\n",
        "\n",
        "#input_data = np.array(np.random.random_sample(input_shape), dtype=np.float32)\n",
        "\n",
        "input_data = np.array([[100, 7]], dtype=np.float32)\n",
        "\n",
        "interpreter.set_tensor(input_details[0]['index'], input_data)\n",
        "\n",
        "interpreter.invoke()\n",
        "\n",
        "# The function `get_tensor()` returns a copy of the tensor data.\n",
        "# Use `tensor()` in order to get a pointer to the tensor.\n",
        "output_data = interpreter.get_tensor(output_details[0]['index'])\n",
        "print(output_data)"
      ],
      "execution_count": null,
      "outputs": [
        {
          "output_type": "stream",
          "text": [
            "[[1.0197847]]\n"
          ],
          "name": "stdout"
        }
      ]
    }
  ]
}